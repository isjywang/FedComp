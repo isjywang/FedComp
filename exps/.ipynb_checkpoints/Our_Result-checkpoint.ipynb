{
 "cells": [
  {
   "cell_type": "code",
   "execution_count": 502,
   "id": "41ef4a8e-0a46-42a6-bb8f-2d06a66c93c5",
   "metadata": {
    "scrolled": true
   },
   "outputs": [
    {
     "name": "stdout",
     "output_type": "stream",
     "text": [
      "[0.5173656569281488, 0.5122618836358332, 0.5046690401762922]\n",
      "[]\n",
      "\n",
      "51.14+-0.52\n",
      "\n",
      "nan\n"
     ]
    }
   ],
   "source": [
    "import numpy as np\n",
    "dataset=\"CiteSeer\"\n",
    "client = \"10_\"\n",
    "all_acc, all_time = [], []\n",
    "for i in [0,1,2]:\n",
    "    dir_=\"./\"+dataset+\"/\"+client + str(i) + \".txt\"\n",
    "    fileHandler  =  open  (dir_,  \"r\")\n",
    "    this_acc = 0\n",
    "    n = 0\n",
    "    while  True:\n",
    "        n+=1\n",
    "        line  =  fileHandler.readline().split()\n",
    "        if  not  line and n>60:\n",
    "            break;\n",
    "        if len(line)>0 and line[0]==\"average\":\n",
    "            this_acc = float(line[2])\n",
    "        if i in [3,4]:\n",
    "            if len(line)>0 and line[0]==\"all\" and line[1]==\"time:\":\n",
    "                all_time.append(float(line[2]))\n",
    "    all_acc.append( this_acc )\n",
    "    \n",
    "\n",
    "print(all_acc)\n",
    "print(all_time)\n",
    "print()\n",
    "all_acc = np.array(all_acc)\n",
    "all_time = np.array(all_time)\n",
    "print(str(round(np.mean(all_acc)*100,2))+\"+-\"+str(round(np.std(all_acc)*100,2)))\n",
    "print()\n",
    "print(round(np.mean(all_time),2))"
   ]
  },
  {
   "cell_type": "code",
   "execution_count": 567,
   "id": "5a488248-bdcc-4ed3-82b2-694c0f61183f",
   "metadata": {
    "scrolled": true
   },
   "outputs": [
    {
     "name": "stdout",
     "output_type": "stream",
     "text": [
      "[122.20517015457153, 123.62460970878601]\n",
      "122.91\n",
      "[132.4721598625183, 63.759047985076904]\n",
      "98.12\n"
     ]
    }
   ],
   "source": [
    "import numpy as np\n",
    "dataset=\"CS\"\n",
    "for mode in ['hete6']:\n",
    "    for c in  ['10','20']:\n",
    "        client = \"fedprox_\"+c+\"_\"\n",
    "        all_acc, all_time = [], []\n",
    "        for i in [3,4]:\n",
    "            dir_=\"./\"+dataset+\"/\"+client + str(i) + mode + \".txt\"\n",
    "            fileHandler  =  open  (dir_,  \"r\")\n",
    "            this_acc = 0\n",
    "            n = 0\n",
    "            while  True:\n",
    "                n+=1\n",
    "                line  =  fileHandler.readline().split()\n",
    "                if  not  line and n>60:\n",
    "                    break;\n",
    "                if len(line)>0 and line[0]==\"average\":\n",
    "                    this_acc = float(line[2])\n",
    "                if i in [3,4]:\n",
    "                    if len(line)>0 and line[0]==\"all\" and line[1]==\"time:\":\n",
    "                        all_time.append(float(line[2]))\n",
    "            all_acc.append( this_acc )\n",
    "            \n",
    "        \n",
    "        # print(all_acc)\n",
    "        print(all_time)\n",
    "        # print()\n",
    "        # all_acc = np.array(all_acc)\n",
    "        all_time = np.array(all_time)\n",
    "        # print(str(round(np.mean(all_acc)*100,2))+\"+-\"+str(round(np.std(all_acc)*100,2)))\n",
    "        # print()\n",
    "        print(round(np.mean(all_time),2))"
   ]
  },
  {
   "cell_type": "code",
   "execution_count": 1,
   "id": "34d9d813-a7e4-4535-8424-4e83f1bfcdcc",
   "metadata": {},
   "outputs": [
    {
     "name": "stdout",
     "output_type": "stream",
     "text": [
      "0.7720903815995479\n"
     ]
    }
   ],
   "source": [
    "a=[0.791323074210422]\n",
    "print(sum(a)/len(a))"
   ]
  },
  {
   "cell_type": "code",
   "execution_count": 479,
   "id": "ae76105d-1b0a-4f24-a960-8c167acf3cbe",
   "metadata": {},
   "outputs": [
    {
     "name": "stdout",
     "output_type": "stream",
     "text": [
      "组数： 3\n",
      "75.60666666666667\n",
      "1.1878365020302875\n"
     ]
    }
   ],
   "source": [
    "import numpy as np\n",
    "#  \n",
    "#  \n",
    "all_acc = [77.24,74.45,75.13]\n",
    "\n",
    "\n",
    "all_acc = np.array(all_acc)\n",
    "print(\"组数：\",len(all_acc))\n",
    "print(np.mean(all_acc))\n",
    "print(np.std(all_acc))"
   ]
  },
  {
   "cell_type": "code",
   "execution_count": 327,
   "id": "42964c62-9e03-4b16-953f-13e002ac62fb",
   "metadata": {},
   "outputs": [
    {
     "ename": "SyntaxError",
     "evalue": "illegal target for annotation (2362905545.py, line 1)",
     "output_type": "error",
     "traceback": [
      "\u001b[0;36m  Cell \u001b[0;32mIn[327], line 1\u001b[0;36m\u001b[0m\n\u001b[0;31m    20:[0.7302265093846091,0.7369931093959978,0.7394051062407028]\u001b[0m\n\u001b[0m    ^\u001b[0m\n\u001b[0;31mSyntaxError\u001b[0m\u001b[0;31m:\u001b[0m illegal target for annotation\n"
     ]
    }
   ],
   "source": [
    "20:[0.8078018972345768, 0.8343499438464367, 0.8333351719182165 ]\n",
    "10:[0.8519885705576703,0.8515270017970364,0.8570327527347544]\n",
    "5:[0.8624431355517894,0.8736571175195426,0.8609736187400913]"
   ]
  },
  {
   "cell_type": "code",
   "execution_count": 498,
   "id": "8a5f2d14-63b7-4b07-9e88-10263ae0fc27",
   "metadata": {},
   "outputs": [
    {
     "name": "stdout",
     "output_type": "stream",
     "text": [
      "0.7630874836707041\n"
     ]
    }
   ],
   "source": [
    "a = np.array([\n",
    "    0.739533535114183,\n",
    "])\n",
    "print(np.mean(a))"
   ]
  },
  {
   "cell_type": "code",
   "execution_count": null,
   "id": "227cc999-dbea-4cd1-8638-90df5edee6a4",
   "metadata": {},
   "outputs": [],
   "source": [
    "print(np.mean(a)-86.70333333333333)"
   ]
  },
  {
   "cell_type": "code",
   "execution_count": 430,
   "id": "7905b571-05ff-43ce-8a84-3f433f999e57",
   "metadata": {},
   "outputs": [
    {
     "data": {
      "text/plain": [
       "0.8599999999999994"
      ]
     },
     "execution_count": 430,
     "metadata": {},
     "output_type": "execute_result"
    }
   ],
   "source": []
  },
  {
   "cell_type": "code",
   "execution_count": null,
   "id": "8609b96f-5acd-4651-8175-8ebd160532ab",
   "metadata": {},
   "outputs": [],
   "source": []
  },
  {
   "cell_type": "code",
   "execution_count": 146,
   "id": "c89b8961-8df0-4806-931a-df2b6dfbd0ef",
   "metadata": {},
   "outputs": [],
   "source": [
    "import os\n",
    "import torch\n",
    "\n",
    "def torch_load(base_dir, filename):\n",
    "    fpath = os.path.join(base_dir, filename)    \n",
    "    return torch.load(fpath, map_location=torch.device('cpu'))\n",
    "    \n",
    "dataset, mode, clients = \"Cora\", \"disjoint\", 20\n",
    "graph=[]\n",
    "for client_id in range(20):\n",
    "    subgraph = torch_load(\n",
    "            \"/home/1005wjy/datasets/\", \n",
    "            f'{dataset}_{mode}/{clients}/partition_{client_id}.pt'\n",
    "        )['client_data']\n",
    "    graph.append(subgraph)"
   ]
  },
  {
   "cell_type": "code",
   "execution_count": 160,
   "id": "7944af74-8acc-41eb-a141-9ab0a092e518",
   "metadata": {},
   "outputs": [
    {
     "name": "stdout",
     "output_type": "stream",
     "text": [
      "0.8432685867381112\n"
     ]
    }
   ],
   "source": [
    "alledge,homoedge = 0,0\n",
    "for g in graph:\n",
    "    edge = []\n",
    "    b, e = g.edge_index[0], g.edge_index[1]\n",
    "    for i in range(len(b)):\n",
    "        if g.y[b[i]]==g.y[e[i]]:\n",
    "            homoedge+=1\n",
    "    alledge+=len(b)\n",
    "print(homoedge/float(alledge))"
   ]
  },
  {
   "cell_type": "code",
   "execution_count": null,
   "id": "9926255b-dcf8-446d-8893-78620f57f85b",
   "metadata": {},
   "outputs": [],
   "source": []
  },
  {
   "cell_type": "code",
   "execution_count": null,
   "id": "5b74b95a-60cf-48ec-9c07-63bf1cdc637d",
   "metadata": {},
   "outputs": [],
   "source": []
  },
  {
   "cell_type": "code",
   "execution_count": null,
   "id": "d88c0f05-56d0-4e0d-bde8-ffbcc2fd4535",
   "metadata": {},
   "outputs": [],
   "source": []
  },
  {
   "cell_type": "code",
   "execution_count": 409,
   "id": "9c52aaeb-890b-4a14-8396-22477315cd85",
   "metadata": {},
   "outputs": [
    {
     "name": "stdout",
     "output_type": "stream",
     "text": [
      "[0.39726944098318095, 0.4347817211515455, 0.40215269896583017, 0.3956877002971678, 0.3956877002971678, 0.3956877002971678, 0.3956877002971678, 0.3956877002971678, 0.3956877002971678, 0.3956877002971678, 0.3956877002971678, 0.3956877002971678, 0.3956877002971678, 0.3956877002971678, 0.3956877002971678, 0.39995894633763446, 0.4299622599938595, 0.4889336570167836, 0.5337930571348208, 0.559214136723826, 0.5678952923631101, 0.575018481140676, 0.5853728261381455, 0.5911093109806387, 0.599211996286303, 0.6067676531860541, 0.6156821017040632, 0.6340256161065077, 0.6456616658596059, 0.6561320817441921, 0.6645506885694379, 0.6721452961939093, 0.6824116627822318, 0.6951864306665492, 0.7111931405623557, 0.72109712110075, 0.7333919948843365, 0.7408287240201143, 0.7497597891830633, 0.7534863829703735, 0.7613757278116526, 0.7677700625642407, 0.7765230200478251, 0.7805376933005475, 0.7855716761964164, 0.7894459373235192, 0.7924727505243828, 0.7956833550356134, 0.7983686740940306, 0.8022331934516226, 0.8060861170784668, 0.8106102047907127, 0.8134788344353971, 0.813815566255105, 0.8139748995882913, 0.8136374585757403, 0.8146457649423041, 0.8166492568375452, 0.8198603069415524, 0.8237270957304486, 0.8265781824133169, 0.828416018414172, 0.8287527502338801, 0.8294099374271646, 0.8300771952440587, 0.8314175878462695, 0.8336034576748045, 0.8351100634942433, 0.8366237663217577, 0.8376240430272723, 0.8379661296238836, 0.838473426522104, 0.8396639639605734, 0.8411630623104829, 0.8421738966998038, 0.8428440930009093, 0.8433529852689133, 0.8436820627577039, 0.8435103127708616, 0.8436936584884517, 0.8442129967101968, 0.845218775054003, 0.8458964436933151, 0.8464073417925573, 0.846405371092642, 0.846039236980304, 0.8463613994537299, 0.8468612240137434, 0.8489033327709933, 0.8492619594138018, 0.8486008308206868, 0.8491126967042252, 0.8499386251374951, 0.8507675974489445, 0.8505968503777213, 0.8502482240958766, 0.8500788201390812, 0.8511180890367358, 0.8517907016305335, 0.8519604809174603]\n",
      "100\n"
     ]
    }
   ],
   "source": [
    "import numpy as np\n",
    "\n",
    "dir_=\"gcfl_pubmed.txt\"\n",
    "fileHandler  =  open  (dir_,  \"r\")\n",
    "all_acc = []\n",
    "n=0\n",
    "while  True:\n",
    "    n+=1\n",
    "    line  =  fileHandler.readline().split()\n",
    "    if  not  line and n>20:\n",
    "        break;\n",
    "    if len(line)>0 and line[0]==\"average\":\n",
    "\n",
    "        all_acc.append(float(line[2]))\n",
    "\n",
    "print(all_acc)\n",
    "print(len(all_acc))"
   ]
  },
  {
   "cell_type": "code",
   "execution_count": 519,
   "id": "47363b4d-1f6e-4d68-861b-f702823bec23",
   "metadata": {},
   "outputs": [
    {
     "name": "stdout",
     "output_type": "stream",
     "text": [
      "[86.50751384306581, 86.86435824459731, 87.04238927709946, 87.21081058621476, 86.46588463842757, 86.9620285450552, 86.7525387745391, 87.16709699022589, 87.49698453046241, 87.43085197657003, 87.27314383903607, 87.15202829930867, 87.12885759257777, 86.68611633507834, 87.37838052034336, 87.1380568848692, 87.03679422246582, 86.74203194799756, 86.775756302836, 87.35719746403667, 86.92166202876513]\n",
      "21\n"
     ]
    }
   ],
   "source": [
    "import numpy as np\n",
    "dataset=\"cora\"\n",
    "\n",
    "\n",
    "acc = []\n",
    "for a in[0,0.05,0.1,0.15,0.2,0.25,0.3,0.35,0.4,0.45,0.5,0.55,0.6,0.65,0.7,0.75,0.8,0.85,0.9,0.95,1]:\n",
    "    client = str(int(a*100))+\"_5_\"\n",
    "    all_acc = []\n",
    "    for i in [0,1,2,3,4]:\n",
    "        dir_=\"./\"+dataset+\"/\"+client + str(i) + \".txt\"\n",
    "        fileHandler  =  open  (dir_,  \"r\")\n",
    "        this_acc = 0\n",
    "        n = 0\n",
    "        while  True:\n",
    "            n+=1\n",
    "            line  =  fileHandler.readline().split()\n",
    "            if  not  line and n>20:\n",
    "                break;\n",
    "            if len(line)>0 and line[0]==\"average\":\n",
    "                this_acc = float(line[2])\n",
    "        all_acc.append( this_acc )\n",
    "    all_acc = np.array(all_acc)\n",
    "    acc.append(np.mean(all_acc)*100)\n",
    "    \n",
    "print(acc)\n",
    "print(len(acc))"
   ]
  },
  {
   "cell_type": "code",
   "execution_count": 605,
   "id": "290e6ce9-fa8e-4cc7-aa39-48362d627ab5",
   "metadata": {},
   "outputs": [
    {
     "name": "stdout",
     "output_type": "stream",
     "text": [
      "python3 main_multiDS.py --dataset CoraFull --clients 50 --alg local --seed 0  > ./CoraFull/local_50_0.txt\n",
      "python3 main_multiDS.py --dataset CoraFull --clients 50 --alg local --seed 1  > ./CoraFull/local_50_1.txt\n",
      "python3 main_multiDS.py --dataset CoraFull --clients 50 --alg fedavg --seed 0  > ./CoraFull/fedavg_50_0.txt\n",
      "python3 main_multiDS.py --dataset CoraFull --clients 50 --alg fedavg --seed 1  > ./CoraFull/fedavg_50_1.txt\n",
      "python3 main_multiDS.py --dataset CoraFull --clients 50 --alg fedprox --seed 0  > ./CoraFull/fedprox_50_0.txt\n",
      "python3 main_multiDS.py --dataset CoraFull --clients 50 --alg fedprox --seed 1  > ./CoraFull/fedprox_50_1.txt\n",
      "python3 main_multiDS.py --dataset CoraFull --clients 50 --alg gcfl --seed 0  > ./CoraFull/gcfl_50_0.txt\n",
      "python3 main_multiDS.py --dataset CoraFull --clients 50 --alg gcfl --seed 1  > ./CoraFull/gcfl_50_1.txt\n",
      "python3 main_multiDS.py --dataset CoraFull --clients 50 --alg fedstar --seed 0  > ./CoraFull/fedstar_50_0.txt\n",
      "python3 main_multiDS.py --dataset CoraFull --clients 50 --alg fedstar --seed 1  > ./CoraFull/fedstar_50_1.txt\n"
     ]
    }
   ],
   "source": [
    "# python3 main_multiDS.py --dataset Cora --clients 5 --alg fedavg --seed 0  > ./cora/fedavg_5_0.txt\n",
    "for dataset in [\"CoraFull\"]:\n",
    "    for alg in [\"local\",\"fedavg\",\"fedprox\",\"gcfl\",\"fedstar\"]:\n",
    "    # for alg in [\"gcfl\"]: \n",
    "        # for clients in [\"5\",\"15\",\"25\",\"30\"]:\n",
    "        for clients in [\"50\"]:\n",
    "            # for seed in [\"0\",\"1\",\"2\",\"3\",\"4\"]:\n",
    "            for seed in [\"0\",\"1\"]:\n",
    "                x = \"python3 main_multiDS.py --dataset \"+dataset+\" --clients \"+clients+\" --alg \"+alg+\" --seed \"+seed+\"  > ./\"+dataset+\"/\"+alg+\"_\"+clients+\"_\"+seed+\".txt\"\n",
    "                print(x)"
   ]
  },
  {
   "cell_type": "code",
   "execution_count": 604,
   "id": "ef241cc1-3eaa-4105-8e85-4b55b55f27c5",
   "metadata": {
    "scrolled": true
   },
   "outputs": [
    {
     "name": "stdout",
     "output_type": "stream",
     "text": [
      "python3 main_multiDS.py --dataset CoraFull --clients 50 --seed 0  > ./CoraFull/50_0.txt\n",
      "python3 main_multiDS.py --dataset CoraFull --clients 50 --seed 1  > ./CoraFull/50_1.txt\n"
     ]
    }
   ],
   "source": [
    "# s = [str(i) for i in range(3)]\n",
    "for dataset in [\"CoraFull\"]:\n",
    "    for clients in [\"50\"]:\n",
    "        for seed in ['0','1']:\n",
    "            x = \"python3 main_multiDS.py --dataset \"+dataset+\" --clients \"+clients+\" --seed \"+seed+\"  > ./\"+dataset+\"/\"+clients+\"_\"+seed+\".txt\"\n",
    "            print(x)"
   ]
  },
  {
   "cell_type": "code",
   "execution_count": 602,
   "id": "d0eb8b7f-38bc-4040-9641-3af3136e85b3",
   "metadata": {},
   "outputs": [
    {
     "name": "stdout",
     "output_type": "stream",
     "text": [
      "0.9581198553966476\n"
     ]
    }
   ],
   "source": [
    "a = [0.9566490975654162,0.9596259702558154,0.9580844983687112]\n",
    "print(sum(a)/len(a))"
   ]
  }
 ],
 "metadata": {
  "kernelspec": {
   "display_name": "getreddit",
   "language": "python",
   "name": "getreddit"
  },
  "language_info": {
   "codemirror_mode": {
    "name": "ipython",
    "version": 3
   },
   "file_extension": ".py",
   "mimetype": "text/x-python",
   "name": "python",
   "nbconvert_exporter": "python",
   "pygments_lexer": "ipython3",
   "version": "3.10.12"
  }
 },
 "nbformat": 4,
 "nbformat_minor": 5
}
